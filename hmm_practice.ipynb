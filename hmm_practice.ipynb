{
 "cells": [
  {
   "cell_type": "code",
   "execution_count": 10,
   "metadata": {},
   "outputs": [
    {
     "name": "stdout",
     "output_type": "stream",
     "text": [
      "['S', 'S', 'S', 'R', 'R', 'S', 'R', 'R', 'R', 'R']\n"
     ]
    }
   ],
   "source": [
    "# transition\n",
    "ss = 0.8\n",
    "sr = 0.2\n",
    "rr = 0.6\n",
    "rs = 0.4\n",
    "\n",
    "# emission\n",
    "sh = 0.8\n",
    "sg = 0.2\n",
    "rh = 0.4\n",
    "rg = 0.6\n",
    "\n",
    "# today\n",
    "s = 2/3\n",
    "r = 1/3\n",
    "\n",
    "mood = ['H', 'H', 'G', 'G','G','H', 'G', 'G', 'S', 'S']\n",
    "possibility = []\n",
    "weather = []\n",
    "\n",
    "if mood[0] == 'H':\n",
    "    possibility.append((s*sh, r*rh))\n",
    "else: \n",
    "    possibility.append((s*sg, r*rg))\n",
    "\n",
    "for i in range(1, len(mood)):\n",
    "    p_yest = possibility[-1]\n",
    "    if mood[i] == 'H':\n",
    "        strans = max(p_yest[0]*ss*sh, p_yest[1]*rs*sh)\n",
    "        rtrans = max(p_yest[0]*sr*rh, p_yest[1]*rr*rh)\n",
    "        possibility.append((strans, rtrans))\n",
    "    else:\n",
    "        strans = max(p_yest[0]*ss*sg, p_yest[1]*rs*sg)\n",
    "        rtrans = max(p_yest[0]*sr*rg, p_yest[1]*rr*rg)\n",
    "        possibility.append((strans, rtrans))\n",
    "\n",
    "for posi in possibility:\n",
    "    if posi[0] > posi[1] :\n",
    "        weather.append('S')\n",
    "    else:\n",
    "        weather.append('R')\n",
    "        \n",
    "print(weather)"
   ]
  },
  {
   "cell_type": "code",
   "execution_count": null,
   "metadata": {},
   "outputs": [],
   "source": []
  }
 ],
 "metadata": {
  "kernelspec": {
   "display_name": "Python 3",
   "language": "python",
   "name": "python3"
  },
  "language_info": {
   "codemirror_mode": {
    "name": "ipython",
    "version": 3
   },
   "file_extension": ".py",
   "mimetype": "text/x-python",
   "name": "python",
   "nbconvert_exporter": "python",
   "pygments_lexer": "ipython3",
   "version": "3.7.6"
  }
 },
 "nbformat": 4,
 "nbformat_minor": 4
}
